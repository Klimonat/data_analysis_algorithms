{
 "cells": [
  {
   "cell_type": "markdown",
   "metadata": {},
   "source": [
    "## Домашнее задание к занятию 3: \"Логистическая регрессия. Log Loss\""
   ]
  },
  {
   "cell_type": "markdown",
   "metadata": {},
   "source": [
    "2. Подберите аргументы функции eval_model для логистической регрессии таким образом, чтобы log loss был минимальным."
   ]
  },
  {
   "cell_type": "code",
   "execution_count": 1,
   "metadata": {},
   "outputs": [],
   "source": [
    "import numpy as np\n",
    "import matplotlib.pyplot as plt\n",
    "from sklearn.linear_model import LinearRegression"
   ]
  },
  {
   "cell_type": "code",
   "execution_count": 2,
   "metadata": {},
   "outputs": [],
   "source": [
    "X = np.array([[1, 1, 1, 1, 1, 1, 1, 1, 1, 1],\n",
    "              [1, 1, 2, 1, 3, 0, 5, 10, 1, 2],\n",
    "              [500, 700, 750, 600, 1450,\n",
    "               800, 1500, 2000, 450, 1000],\n",
    "              [1, 1, 2, 1, 2, 1, 3, 3, 1, 2]], dtype = np.float64)\n",
    "\n",
    "y = np.array([0, 0, 1, 0, 1, 0, 1, 0, 1, 1], dtype = np.float64)"
   ]
  },
  {
   "cell_type": "code",
   "execution_count": 3,
   "metadata": {},
   "outputs": [],
   "source": [
    "def calc_logloss(y, y_pred):\n",
    "    err = - np.mean(y * np.log(y_pred) + (1.0 - y) * np.log(1.0 - y_pred))\n",
    "    return err"
   ]
  },
  {
   "cell_type": "code",
   "execution_count": 4,
   "metadata": {},
   "outputs": [],
   "source": [
    "def sigmoid(z):\n",
    "    res = 1 / (1 + np.exp(-z))\n",
    "    return res"
   ]
  },
  {
   "cell_type": "code",
   "execution_count": 5,
   "metadata": {},
   "outputs": [],
   "source": [
    "def eval_model(X, y, iterations, alpha=1e-4, metric: callable = None):\n",
    "    np.random.seed(42)\n",
    "    W = np.random.randn(X.shape[0])\n",
    "    n = X.shape[1]\n",
    "    for i in range(1, iterations+1):\n",
    "        z = np.dot(W, X)\n",
    "        y_pred = sigmoid(z)\n",
    "        err = calc_logloss(y, y_pred)\n",
    "        W -= alpha * (1/n * np.dot((y_pred - y), X.T))\n",
    "#     if i % (iterations / 10) == 0:\n",
    "#         print(i, W, err)\n",
    "    return W, err"
   ]
  },
  {
   "cell_type": "code",
   "execution_count": 6,
   "metadata": {},
   "outputs": [],
   "source": [
    "iter_array = [1000, 5000, 10000, 100000, 200000, 300000, 400000, 500000, 1000000]\n",
    "alpha_array = [1e-2, 1e-3, 1e-4, 1e-5, 1e-6, 1e-7, 1e-8]"
   ]
  },
  {
   "cell_type": "code",
   "execution_count": 7,
   "metadata": {},
   "outputs": [
    {
     "name": "stderr",
     "output_type": "stream",
     "text": [
      "<ipython-input-3-7d5907c1794a>:2: RuntimeWarning: divide by zero encountered in log\n",
      "  err = - np.mean(y * np.log(y_pred) + (1.0 - y) * np.log(1.0 - y_pred))\n",
      "<ipython-input-3-7d5907c1794a>:2: RuntimeWarning: invalid value encountered in multiply\n",
      "  err = - np.mean(y * np.log(y_pred) + (1.0 - y) * np.log(1.0 - y_pred))\n",
      "<ipython-input-4-304f158d4adf>:2: RuntimeWarning: overflow encountered in exp\n",
      "  res = 1 / (1 + np.exp(-z))\n"
     ]
    },
    {
     "name": "stdout",
     "output_type": "stream",
     "text": [
      "iterations= 1000 alpha= 0.01 error nan\n",
      "iterations= 1000 alpha= 0.001 error nan\n",
      "iterations= 1000 alpha= 0.0001 error 5.042792352603376\n",
      "iterations= 1000 alpha= 1e-05 error 0.8478082963339114\n",
      "iterations= 1000 alpha= 1e-06 error nan\n",
      "iterations= 1000 alpha= 1e-07 error nan\n",
      "iterations= 1000 alpha= 1e-08 error nan\n",
      "iterations= 5000 alpha= 0.01 error nan\n",
      "iterations= 5000 alpha= 0.001 error 170.8256709756176\n",
      "iterations= 5000 alpha= 0.0001 error 2.3207568321112637\n",
      "iterations= 5000 alpha= 1e-05 error 0.8471318040263481\n",
      "iterations= 5000 alpha= 1e-06 error 0.6047007196667514\n",
      "iterations= 5000 alpha= 1e-07 error nan\n",
      "iterations= 5000 alpha= 1e-08 error nan\n",
      "iterations= 10000 alpha= 0.01 error nan\n",
      "iterations= 10000 alpha= 0.001 error nan\n",
      "iterations= 10000 alpha= 0.0001 error 1.3037108262994646\n",
      "iterations= 10000 alpha= 1e-05 error 0.846289770586375\n",
      "iterations= 10000 alpha= 1e-06 error 0.6046369485072736\n",
      "iterations= 10000 alpha= 1e-07 error nan\n",
      "iterations= 10000 alpha= 1e-08 error nan\n",
      "iterations= 100000 alpha= 0.01 error nan\n",
      "iterations= 100000 alpha= 0.001 error 134.30908549286863\n",
      "iterations= 100000 alpha= 0.0001 error 2.124524829349364\n",
      "iterations= 100000 alpha= 1e-05 error 0.8317656233551309\n",
      "iterations= 100000 alpha= 1e-06 error 0.6035176671669842\n",
      "iterations= 100000 alpha= 1e-07 error 0.6046369407219226\n",
      "iterations= 100000 alpha= 1e-08 error nan\n",
      "iterations= 200000 alpha= 0.01 error nan\n",
      "iterations= 200000 alpha= 0.001 error nan\n",
      "iterations= 200000 alpha= 0.0001 error 5.594343119525252\n",
      "iterations= 200000 alpha= 1e-05 error 0.8168310533595766\n",
      "iterations= 200000 alpha= 1e-06 error 0.602333410010143\n",
      "iterations= 200000 alpha= 1e-07 error 0.604509914261792\n",
      "iterations= 200000 alpha= 1e-08 error 0.6047390568067993\n",
      "iterations= 300000 alpha= 0.01 error nan\n",
      "iterations= 300000 alpha= 0.001 error nan\n",
      "iterations= 300000 alpha= 0.0001 error 5.8588762958511795\n",
      "iterations= 300000 alpha= 1e-05 error 0.8028744332755242\n",
      "iterations= 300000 alpha= 1e-06 error 0.601205586798124\n",
      "iterations= 300000 alpha= 1e-07 error 0.6043835695970469\n",
      "iterations= 300000 alpha= 1e-08 error 0.6047262679594086\n",
      "iterations= 400000 alpha= 0.01 error nan\n",
      "iterations= 400000 alpha= 0.001 error nan\n",
      "iterations= 400000 alpha= 0.0001 error 1.5157836568155325\n",
      "iterations= 400000 alpha= 1e-05 error 0.7896427033650538\n",
      "iterations= 400000 alpha= 1e-06 error 0.60012847832318\n",
      "iterations= 400000 alpha= 1e-07 error 0.6042578996363736\n",
      "iterations= 400000 alpha= 1e-08 error 0.6047134860519836\n",
      "iterations= 500000 alpha= 0.01 error nan\n",
      "iterations= 500000 alpha= 0.001 error nan\n",
      "iterations= 500000 alpha= 0.0001 error 5.488562431275868\n",
      "iterations= 500000 alpha= 1e-05 error 0.7769324042245284\n",
      "iterations= 500000 alpha= 1e-06 error 0.5990969103407592\n",
      "iterations= 500000 alpha= 1e-07 error 0.604132897354002\n",
      "iterations= 500000 alpha= 1e-08 error 0.6047007110772915\n",
      "iterations= 1000000 alpha= 0.01 error nan\n",
      "iterations= 1000000 alpha= 0.001 error 32.30499650419865\n",
      "iterations= 1000000 alpha= 0.0001 error 6.29715461931558\n",
      "iterations= 1000000 alpha= 1e-05 error 0.716940183862019\n",
      "iterations= 1000000 alpha= 1e-06 error 0.5944741216714555\n",
      "iterations= 1000000 alpha= 1e-07 error 0.6035176597533984\n",
      "iterations= 1000000 alpha= 1e-08 error 0.6046369399421099\n"
     ]
    }
   ],
   "source": [
    "for i in range(len(iter_array)):\n",
    "    for j in range(len(alpha_array)):\n",
    "        W, err = eval_model(X, y, iterations=iter_array[i], alpha=alpha_array[j])\n",
    "        print('iterations=', iter_array[i], 'alpha=', alpha_array[j], 'error', err)"
   ]
  },
  {
   "cell_type": "markdown",
   "metadata": {},
   "source": [
    "Можно заметить, что наилучшие результаты получаются при скорости $e^{-6}$. При увеличении количества итераций ошибка уменьшается, но при количестве итераций больше $e^6$ сильно увеличивается время выполнения программы, поэтому оптимальными будут следующие значения:\n",
    "* $\\alpha = e^{-6}$\n",
    "* Количество итераций = 1000000\n",
    "\n",
    "При необходимости увеличения точности можно увеличить количество итераций. "
   ]
  },
  {
   "cell_type": "code",
   "execution_count": 8,
   "metadata": {},
   "outputs": [
    {
     "name": "stderr",
     "output_type": "stream",
     "text": [
      "<ipython-input-3-7d5907c1794a>:2: RuntimeWarning: divide by zero encountered in log\n",
      "  err = - np.mean(y * np.log(y_pred) + (1.0 - y) * np.log(1.0 - y_pred))\n",
      "<ipython-input-3-7d5907c1794a>:2: RuntimeWarning: invalid value encountered in multiply\n",
      "  err = - np.mean(y * np.log(y_pred) + (1.0 - y) * np.log(1.0 - y_pred))\n"
     ]
    },
    {
     "data": {
      "text/plain": [
       "(array([ 0.418086  , -0.09610316, -0.00257571,  1.56844584]),\n",
       " 0.5944741216714555)"
      ]
     },
     "execution_count": 8,
     "metadata": {},
     "output_type": "execute_result"
    }
   ],
   "source": [
    "W, error = eval_model(X, y, iterations=1000000, alpha=1e-6)\n",
    "W, error"
   ]
  },
  {
   "cell_type": "markdown",
   "metadata": {},
   "source": [
    "3. Создайте функцию calc_pred_proba, возвращающую предсказанную вероятность класса 1 (на вход подаются W, который уже посчитан функцией eval_model и X, на выходе - массив y_pred_proba)."
   ]
  },
  {
   "cell_type": "code",
   "execution_count": 9,
   "metadata": {},
   "outputs": [],
   "source": [
    "def calc_pred_proba(W, X):\n",
    "    y_pred_proba = sigmoid(np.dot(W, X))\n",
    "    return y_pred_proba"
   ]
  },
  {
   "cell_type": "code",
   "execution_count": 10,
   "metadata": {},
   "outputs": [
    {
     "data": {
      "text/plain": [
       "array([0.64624487, 0.52184396, 0.80705531, 0.58540518, 0.38506328,\n",
       "       0.48149936, 0.68553835, 0.27110399, 0.67510344, 0.68719994])"
      ]
     },
     "execution_count": 10,
     "metadata": {},
     "output_type": "execute_result"
    }
   ],
   "source": [
    "y_pred_proba = calc_pred_proba(W, X)\n",
    "y_pred_proba"
   ]
  },
  {
   "cell_type": "markdown",
   "metadata": {},
   "source": [
    "4. Создайте функцию calc_pred, возвращающую предсказанный класс (на вход подаются W, который уже посчитан функцией eval_model и X, на выходе - массив y_pred)."
   ]
  },
  {
   "cell_type": "code",
   "execution_count": 11,
   "metadata": {},
   "outputs": [],
   "source": [
    "def calc_pred(W, X):\n",
    "    y_pred = []\n",
    "    y_pred_sigm = calc_pred_proba(W, X)\n",
    "    for elem in y_pred_sigm:\n",
    "        if elem >= 0.5:\n",
    "            y_pred.append(1)\n",
    "        else:\n",
    "            y_pred.append(0)\n",
    "    return y_pred"
   ]
  },
  {
   "cell_type": "code",
   "execution_count": 12,
   "metadata": {},
   "outputs": [
    {
     "data": {
      "text/plain": [
       "[1, 1, 1, 1, 0, 0, 1, 0, 1, 1]"
      ]
     },
     "execution_count": 12,
     "metadata": {},
     "output_type": "execute_result"
    }
   ],
   "source": [
    "y_pred = calc_pred(W, X)\n",
    "y_pred"
   ]
  },
  {
   "cell_type": "markdown",
   "metadata": {},
   "source": [
    "5. Посчитайте Accuracy, матрицу ошибок, точность и полноту, а также F1 score."
   ]
  },
  {
   "cell_type": "code",
   "execution_count": 13,
   "metadata": {},
   "outputs": [
    {
     "data": {
      "text/plain": [
       "0.6"
      ]
     },
     "execution_count": 13,
     "metadata": {},
     "output_type": "execute_result"
    }
   ],
   "source": [
    "positiv = 0\n",
    "for i in range(len(y_pred)):\n",
    "    if y_pred[i] == y[i]:\n",
    "        positiv += 1\n",
    "accuracy = positiv / len(y)\n",
    "accuracy"
   ]
  },
  {
   "cell_type": "code",
   "execution_count": 14,
   "metadata": {},
   "outputs": [
    {
     "data": {
      "text/plain": [
       "array([0., 0., 1., 0., 1., 0., 1., 0., 1., 1.])"
      ]
     },
     "execution_count": 14,
     "metadata": {},
     "output_type": "execute_result"
    }
   ],
   "source": [
    "y"
   ]
  },
  {
   "cell_type": "code",
   "execution_count": 15,
   "metadata": {},
   "outputs": [
    {
     "data": {
      "text/plain": [
       "[1, 1, 1, 1, 0, 0, 1, 0, 1, 1]"
      ]
     },
     "execution_count": 15,
     "metadata": {},
     "output_type": "execute_result"
    }
   ],
   "source": [
    "y_pred"
   ]
  },
  {
   "cell_type": "code",
   "execution_count": 16,
   "metadata": {},
   "outputs": [
    {
     "name": "stdout",
     "output_type": "stream",
     "text": [
      "y_real: 0.0    y_pred: 1\n",
      "y_real: 0.0    y_pred: 1\n",
      "y_real: 1.0    y_pred: 1\n",
      "y_real: 0.0    y_pred: 1\n",
      "y_real: 1.0    y_pred: 0\n",
      "y_real: 0.0    y_pred: 0\n",
      "y_real: 1.0    y_pred: 1\n",
      "y_real: 0.0    y_pred: 0\n",
      "y_real: 1.0    y_pred: 1\n",
      "y_real: 1.0    y_pred: 1\n"
     ]
    }
   ],
   "source": [
    "TN = 0\n",
    "TP = 0\n",
    "FN = 0\n",
    "FP = 0\n",
    "for i in range(len(y)):\n",
    "    print('y_real:', y[i], '   y_pred:', y_pred[i])\n",
    "    if y_pred[i] == y[i]:\n",
    "        if y[i] == 0:\n",
    "            TN += 1\n",
    "            \n",
    "        else:\n",
    "            TP += 1\n",
    "    else:\n",
    "        if y_pred[i] == 1.0:\n",
    "            FP += 1\n",
    "        else:\n",
    "            FN += 1"
   ]
  },
  {
   "cell_type": "code",
   "execution_count": 17,
   "metadata": {},
   "outputs": [
    {
     "name": "stdout",
     "output_type": "stream",
     "text": [
      "\n",
      "  TN = 2 \n",
      "  TP = 4 \n",
      "  FN = 1 \n",
      "  FP = 3\n"
     ]
    }
   ],
   "source": [
    "print(\"\\n \", 'TN =', TN, \"\\n \",'TP =', TP, \"\\n \", 'FN =', FN, \"\\n \", 'FP =', FP)"
   ]
  },
  {
   "cell_type": "code",
   "execution_count": 18,
   "metadata": {},
   "outputs": [
    {
     "data": {
      "text/plain": [
       "array([[4, 3],\n",
       "       [1, 2]])"
      ]
     },
     "execution_count": 18,
     "metadata": {},
     "output_type": "execute_result"
    }
   ],
   "source": [
    "conf_matrix = np.array([[TP, FP], [FN, TN]])\n",
    "conf_matrix"
   ]
  },
  {
   "cell_type": "code",
   "execution_count": 19,
   "metadata": {},
   "outputs": [
    {
     "data": {
      "text/plain": [
       "0.5714285714285714"
      ]
     },
     "execution_count": 19,
     "metadata": {},
     "output_type": "execute_result"
    }
   ],
   "source": [
    "Precision = TP / (TP + FP)\n",
    "Precision"
   ]
  },
  {
   "cell_type": "code",
   "execution_count": 20,
   "metadata": {},
   "outputs": [
    {
     "data": {
      "text/plain": [
       "0.8"
      ]
     },
     "execution_count": 20,
     "metadata": {},
     "output_type": "execute_result"
    }
   ],
   "source": [
    "Recall = TP / (TP + FN)\n",
    "Recall"
   ]
  },
  {
   "cell_type": "code",
   "execution_count": 21,
   "metadata": {},
   "outputs": [
    {
     "data": {
      "text/plain": [
       "0.6666666666666666"
      ]
     },
     "execution_count": 21,
     "metadata": {},
     "output_type": "execute_result"
    }
   ],
   "source": [
    "F1 = 2 * Precision * Recall / (Precision + Recall)\n",
    "F1"
   ]
  },
  {
   "cell_type": "markdown",
   "metadata": {},
   "source": [
    "6. Могла ли модель переобучиться? Почему?"
   ]
  },
  {
   "cell_type": "markdown",
   "metadata": {},
   "source": [
    "Могла, т.к. параметры подобраны случайно, а регуляризация не применялась, но при уменьшении количества итераций и увеличении альфы качество результата падает для всех метрик, поэтому в данном случае модель не переобучилась"
   ]
  }
 ],
 "metadata": {
  "kernelspec": {
   "display_name": "Python 3",
   "language": "python",
   "name": "python3"
  },
  "language_info": {
   "codemirror_mode": {
    "name": "ipython",
    "version": 3
   },
   "file_extension": ".py",
   "mimetype": "text/x-python",
   "name": "python",
   "nbconvert_exporter": "python",
   "pygments_lexer": "ipython3",
   "version": "3.8.5"
  }
 },
 "nbformat": 4,
 "nbformat_minor": 4
}
