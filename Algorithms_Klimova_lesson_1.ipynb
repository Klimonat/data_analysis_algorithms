{
 "cells": [
  {
   "cell_type": "markdown",
   "metadata": {},
   "source": [
    "## Домашнее задание к занятию 1: \"Алгоритм линейной регрессии. Градиентный спуск\""
   ]
  },
  {
   "cell_type": "markdown",
   "metadata": {},
   "source": [
    "#### Задание:\n",
    "1. Подберите скорость обучения (alpha) и количество итераций для градиентного спуска.\n",
    "2. (опция). В этом коде мы избавляемся от итераций по весам, но тут есть ошибка, исправьте ее:"
   ]
  },
  {
   "cell_type": "code",
   "execution_count": 1,
   "metadata": {},
   "outputs": [],
   "source": [
    "import numpy as np\n",
    "import matplotlib.pyplot as plt\n",
    "import datetime as dtm"
   ]
  },
  {
   "cell_type": "code",
   "execution_count": 2,
   "metadata": {},
   "outputs": [],
   "source": [
    "def calc_mse(y, y_pred):\n",
    "    err = np.mean((y - y_pred)**2)\n",
    "    return err"
   ]
  },
  {
   "cell_type": "code",
   "execution_count": 3,
   "metadata": {},
   "outputs": [],
   "source": [
    "y = [45, 55, 50, 59, 65, 35, 75, 80, 50, 60]\n",
    "X = np.array([[1, 1, 1, 1, 1, 1, 1, 1, 1, 1],\n",
    "              [1, 1, 2, 1, 3, 0, 5, 10, 1, 2]])"
   ]
  },
  {
   "cell_type": "code",
   "execution_count": 4,
   "metadata": {},
   "outputs": [
    {
     "data": {
      "text/plain": [
       "array([47.23214286,  3.91071429])"
      ]
     },
     "execution_count": 4,
     "metadata": {},
     "output_type": "execute_result"
    }
   ],
   "source": [
    "W = np.dot(np.dot(np.linalg.inv(np.dot(X, X.T)), X), y)\n",
    "W"
   ]
  },
  {
   "cell_type": "code",
   "execution_count": 5,
   "metadata": {},
   "outputs": [
    {
     "data": {
      "text/plain": [
       "(array([1. , 0.5]), 1e-08)"
      ]
     },
     "execution_count": 5,
     "metadata": {},
     "output_type": "execute_result"
    }
   ],
   "source": [
    "n = X.shape[1]\n",
    "alpha = 1e-8\n",
    "W = np.array([1, 0.5])\n",
    "W, alpha"
   ]
  },
  {
   "cell_type": "code",
   "execution_count": 6,
   "metadata": {},
   "outputs": [
    {
     "name": "stdout",
     "output_type": "stream",
     "text": [
      "0 [1.0000011 0.5000034] 3173.15\n",
      "1000 [1.001103   0.50340287] 3171.872938282029\n",
      "2000 [1.0022047 0.5068013] 3170.5966340026016\n",
      "3000 [1.00330621 0.51019867] 3169.321086705227\n",
      "4000 [1.00440751 0.513595  ] 3168.046295933692\n",
      "5000 [1.00550862 0.51699028] 3166.7722612320567\n",
      "6000 [1.00660952 0.52038451] 3165.498982144659\n",
      "7000 [1.00771023 0.52377769] 3164.2264582161074\n",
      "8000 [1.00881074 0.52716982] 3162.954688991288\n",
      "9000 [1.00991106 0.5305609 ] 3161.6836740153612\n"
     ]
    }
   ],
   "source": [
    "## Исходный код\n",
    "for i in range(10000):\n",
    "    y_pred = np.dot(W, X)\n",
    "    err = calc_mse(y, y_pred)\n",
    "    for ii in range(W.shape[0]):\n",
    "        W[ii] -= alpha * (2/n * np.sum(X[ii] * (y_pred - y)))\n",
    "#         print(X[ii])\n",
    "#     W -= (alpha * (1/n * 2 * np.sum(X * (y_pred - y))))\n",
    "    if i % 1000 == 0:\n",
    "        print(i, W, err)"
   ]
  },
  {
   "cell_type": "code",
   "execution_count": 7,
   "metadata": {},
   "outputs": [
    {
     "data": {
      "text/plain": [
       "(array([1. , 0.5]), 1e-08)"
      ]
     },
     "execution_count": 7,
     "metadata": {},
     "output_type": "execute_result"
    }
   ],
   "source": [
    "n = X.shape[1]\n",
    "alpha = 1e-8\n",
    "W = np.array([1, 0.5])\n",
    "W, alpha"
   ]
  },
  {
   "cell_type": "code",
   "execution_count": 8,
   "metadata": {},
   "outputs": [
    {
     "name": "stdout",
     "output_type": "stream",
     "text": [
      "0 [1.0000011 0.5000034] 3173.15\n",
      "1000 [1.001103   0.50340287] 3171.872938282029\n",
      "2000 [1.0022047 0.5068013] 3170.5966340026016\n",
      "3000 [1.00330621 0.51019867] 3169.321086705227\n",
      "4000 [1.00440751 0.513595  ] 3168.046295933692\n",
      "5000 [1.00550862 0.51699028] 3166.7722612320567\n",
      "6000 [1.00660952 0.52038451] 3165.498982144659\n",
      "7000 [1.00771023 0.52377769] 3164.2264582161074\n",
      "8000 [1.00881074 0.52716982] 3162.954688991288\n",
      "9000 [1.00991106 0.5305609 ] 3161.6836740153612\n"
     ]
    }
   ],
   "source": [
    "## Без итерации по весам\n",
    "for i in range(10000):\n",
    "    y_pred = np.dot(W, X)\n",
    "    err = calc_mse(y, y_pred)\n",
    "    W -= alpha * (2/n * np.sum((X * (y_pred - y)), axis=1)) \n",
    "    if i % 1000 == 0:\n",
    "        print(i, W, err)"
   ]
  },
  {
   "cell_type": "markdown",
   "metadata": {},
   "source": [
    "#### Найдем необходимое количество итераций для разных значений скорости сходимости"
   ]
  },
  {
   "cell_type": "code",
   "execution_count": 9,
   "metadata": {},
   "outputs": [],
   "source": [
    "n = X.shape[1]\n",
    "alpha_array = [1e-2, 1e-3, 1e-4, 1e-5, 1e-6]"
   ]
  },
  {
   "cell_type": "code",
   "execution_count": 10,
   "metadata": {},
   "outputs": [
    {
     "name": "stdout",
     "output_type": "stream",
     "text": [
      "Скорость сходимости: 0.01\n",
      " - количество итераций: 1250\n",
      " - вектор весов: [47.23204948  3.91073153]\n",
      " - ошибка: 45.9375000046876\n",
      " - время: 0:00:00.069813\n",
      "\n",
      "Скорость сходимости: 0.001\n",
      " - количество итераций: 11441\n",
      " - вектор весов: [47.2318441   3.91076945]\n",
      " - ошибка: 45.9375000479849\n",
      " - время: 0:00:00.407362\n",
      "\n",
      "Скорость сходимости: 0.0001\n",
      " - количество итераций: 103382\n",
      " - вектор весов: [47.23119716  3.91088892]\n",
      " - ошибка: 45.93750048081665\n",
      " - время: 0:00:03.734011\n",
      "\n",
      "Скорость сходимости: 1e-05\n",
      " - количество итераций: 923138\n",
      " - вектор весов: [47.2291521   3.91126655]\n",
      " - ошибка: 45.93750480880125\n",
      " - время: 0:00:30.707945\n",
      "\n",
      "Скорость сходимости: 1e-06\n",
      " - количество итераций: 8124027\n",
      " - вектор весов: [47.22268376  3.91246098]\n",
      " - ошибка: 45.937548103086506\n",
      " - время: 0:04:58.259663\n",
      "\n",
      "Wall time: 5min 33s\n"
     ]
    }
   ],
   "source": [
    "%%time\n",
    "eps = 1e-10\n",
    "num_of_iter = 100000000\n",
    "W_array = []\n",
    "iter_array = []\n",
    "error_array = []\n",
    "\n",
    "for alpha in alpha_array:\n",
    "    W = np.array([1, 0.5])\n",
    "    err = 1e10\n",
    "    date_start = dtm.datetime.now()\n",
    "    for iteration in range(num_of_iter):\n",
    "        y_pred = np.dot(W, X)\n",
    "        new_err = calc_mse(y, y_pred)\n",
    "        if abs(new_err - err) < eps:\n",
    "            W_array.append(W)\n",
    "            iter_array.append(iteration)\n",
    "            error_array.append(err)\n",
    "            print('Скорость сходимости:', alpha) \n",
    "            print(' - количество итераций:', iteration)\n",
    "            print(' - вектор весов:', W)\n",
    "            print(' - ошибка:', new_err)\n",
    "            print(' - время:', dtm.datetime.now() - date_start)\n",
    "            print()\n",
    "            break\n",
    "        W -= alpha * (2/n * np.sum((X * (y_pred - y)), axis=1)) \n",
    "        err = new_err"
   ]
  },
  {
   "cell_type": "markdown",
   "metadata": {},
   "source": [
    "#### При сравнении полученных векторов весов для разных скоростей сходимости с вычисленным теоретическим значением наиболее близким при заданном начальном приближении оказался вектор весов, полученный при следующих параметрах:\n",
    "\n",
    "    - скорость сходимости = 0.01\n",
    "    \n",
    "    - количество итераций = 1250\n",
    "    \n",
    "#### При скорости сходимости 0.01 мы получаем минимальную ошибку для выбранного приближения и наиболее быструю сходимость с минимальным количеством итераций. "
   ]
  }
 ],
 "metadata": {
  "kernelspec": {
   "display_name": "Python 3",
   "language": "python",
   "name": "python3"
  },
  "language_info": {
   "codemirror_mode": {
    "name": "ipython",
    "version": 3
   },
   "file_extension": ".py",
   "mimetype": "text/x-python",
   "name": "python",
   "nbconvert_exporter": "python",
   "pygments_lexer": "ipython3",
   "version": "3.8.5"
  }
 },
 "nbformat": 4,
 "nbformat_minor": 4
}
