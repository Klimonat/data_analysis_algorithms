{
 "cells": [
  {
   "cell_type": "markdown",
   "metadata": {},
   "source": [
    "## Домашнее задание к занятию 2: \"Масштабирование признаков. L1- и L2-регуляризация. Стохастический градиентный спуск\""
   ]
  },
  {
   "cell_type": "markdown",
   "metadata": {},
   "source": [
    "1. Сгенерировать датасет при помощи sklearn.datasets.make_regression и обучить линейную модель при помощи градиентного и стохастического градиентного спуска. Нанести среднеквадратичную ошибку для обоих методов на один график, сделать выводы о разнице скорости сходимости каждого из методов."
   ]
  },
  {
   "cell_type": "code",
   "execution_count": 1,
   "metadata": {},
   "outputs": [],
   "source": [
    "from sklearn.datasets import make_regression\n",
    "import pandas as pd\n",
    "import numpy as np\n",
    "import matplotlib.pyplot as plt"
   ]
  },
  {
   "cell_type": "code",
   "execution_count": 2,
   "metadata": {},
   "outputs": [],
   "source": [
    "X, y, coef = make_regression(n_samples=100, n_features=10, coef = True)"
   ]
  },
  {
   "cell_type": "code",
   "execution_count": 3,
   "metadata": {},
   "outputs": [],
   "source": [
    "X_for_grad = X.T"
   ]
  },
  {
   "cell_type": "code",
   "execution_count": 4,
   "metadata": {},
   "outputs": [
    {
     "data": {
      "text/plain": [
       "(100, 10)"
      ]
     },
     "execution_count": 4,
     "metadata": {},
     "output_type": "execute_result"
    }
   ],
   "source": [
    "X.shape"
   ]
  },
  {
   "cell_type": "code",
   "execution_count": 5,
   "metadata": {},
   "outputs": [
    {
     "data": {
      "text/plain": [
       "array([-117.36710186,   71.99140132,  411.79554057, -171.83251587,\n",
       "         12.98671854, -448.80573105,  148.8689492 ,   81.78793545,\n",
       "         52.99736526, -558.76204802,  459.01078104,  -14.256564  ,\n",
       "       -173.59140903,  -83.22873012, -329.14354658,  206.28362278,\n",
       "        199.4017672 ,  -49.00910404,  191.72729855,  -56.35393694,\n",
       "        -70.1462415 ,    0.85811433,  -50.53360939,   93.47101112,\n",
       "       -102.63589398, -186.22963405,   35.19920646, -261.27560853,\n",
       "       -116.75888043,  120.45951164, -289.54384176,  -70.17710016,\n",
       "        -45.24719562, -436.66134387,   49.77286515, -209.55620547,\n",
       "       -104.06907781,  194.27325889, -179.83829991,   52.86656659,\n",
       "        -65.58949868,  271.76932089,   51.14027685,  143.50376487,\n",
       "       -438.9247193 ,  225.08116616,  121.17425875,  -40.74093109,\n",
       "       -122.60864639, -179.16554756,  -15.67233147,   29.27123172,\n",
       "         85.21957945,  358.83567638,  191.86857618,  117.96180287,\n",
       "       -193.6370734 ,   15.29065051, -285.50887779, -151.02996518,\n",
       "        146.13658481, -294.87066523, -142.26953849,  214.79097934,\n",
       "        332.30391983,  -21.41089637, -159.62689851,  -62.31068784,\n",
       "       -388.49096201, -301.16956961,   52.48866471,  338.41222104,\n",
       "       -118.78889075,   13.36535506,  -30.95154638,  -70.70637012,\n",
       "         26.94054553,   -5.19718723,   12.66457558,  -34.88697941,\n",
       "         61.70387296,  180.45600602,  -43.83018007,  -26.86531494,\n",
       "       -104.74782424,  -97.4630029 ,  126.75526145,  127.70953522,\n",
       "        103.12890475,  -72.00297191,  -88.00766144, -137.36930055,\n",
       "         63.13971717,  323.19503946,  204.24568361,   54.84901404,\n",
       "        -22.26052148, -426.8111032 , -172.31617895,  161.85006135])"
      ]
     },
     "execution_count": 5,
     "metadata": {},
     "output_type": "execute_result"
    }
   ],
   "source": [
    "y"
   ]
  },
  {
   "cell_type": "code",
   "execution_count": 6,
   "metadata": {},
   "outputs": [],
   "source": [
    "def calc_mse(flag, l1, l2, y, y_pred):\n",
    "    if flag == 'l1':\n",
    "        return np.mean((y - y_pred)**2) + l1 * np.sum(abs(W))\n",
    "    elif flag == 'l2':\n",
    "        return np.mean((y - y_pred)**2) + l2 * np.sum(W ** 2)\n",
    "    else:\n",
    "        return np.mean((y - y_pred)**2)"
   ]
  },
  {
   "cell_type": "code",
   "execution_count": 7,
   "metadata": {},
   "outputs": [],
   "source": [
    "l1 = 0.1\n",
    "l2 = 0.1"
   ]
  },
  {
   "cell_type": "code",
   "execution_count": 8,
   "metadata": {},
   "outputs": [],
   "source": [
    "#Градиентный спуск\n",
    "def grad(reg, y, W, alpha, n):\n",
    "    errors_grad = []\n",
    "    w_list = [W.copy()]\n",
    "    for i in range(100):\n",
    "        y_pred = np.dot(W, X_for_grad)\n",
    "        err = calc_mse(reg, l1, l2, y, y_pred)\n",
    "        W -= alpha * (2/n * np.sum((X_for_grad * (y_pred - y)), axis=1)) \n",
    "        w_list.append(W)\n",
    "        errors_grad.append(err)\n",
    "        \n",
    "    w_list_grad = np.array(w_list)\n",
    "    errors_grad = np.array(errors_grad)\n",
    "    return y_pred, w_list_grad, errors_grad"
   ]
  },
  {
   "cell_type": "code",
   "execution_count": 9,
   "metadata": {},
   "outputs": [],
   "source": [
    "reg = 0\n",
    "W = np.zeros(10)\n",
    "alpha = 0.2\n",
    "n = X.shape[1]\n",
    "y_pred_grad, w_list_grad, errors_grad = grad(0, y, W, alpha, n)"
   ]
  },
  {
   "cell_type": "code",
   "execution_count": 10,
   "metadata": {},
   "outputs": [],
   "source": [
    "# Стохастический градиентный спуск\n",
    "def stoch_grad(reg, y, w, eta, max_iter, min_weight_dist, weight_dist):\n",
    "    iter_num = 0\n",
    "    errors = []\n",
    "    w_list = [w.copy()]\n",
    "    while weight_dist > min_weight_dist and iter_num < max_iter:    \n",
    "        new_w = w - 2 * eta * np.dot(X.T, (np.dot(X, w) - y)) / y.shape[0]\n",
    "        weight_dist = np.linalg.norm(new_w - w, ord=2)\n",
    "        w_list.append(new_w.copy())\n",
    "        y_pred = X.dot(w)\n",
    "        errors.append(calc_mse(reg, l1, l2, y, y_pred))\n",
    "        iter_num += 1\n",
    "        w = new_w\n",
    "    w_list_stochastic = np.array(w_list)\n",
    "    return w_list_stochastic, errors"
   ]
  },
  {
   "cell_type": "code",
   "execution_count": 11,
   "metadata": {},
   "outputs": [],
   "source": [
    "reg = 0\n",
    "w = np.zeros(10)\n",
    "eta = 0.5\n",
    "max_iter = 1e5\n",
    "min_weight_dist = 1e-8\n",
    "weight_dist = np.inf\n",
    "w_list_stochastic, errors = stoch_grad(0, y, w, eta, max_iter, min_weight_dist, weight_dist)"
   ]
  },
  {
   "cell_type": "code",
   "execution_count": 12,
   "metadata": {},
   "outputs": [],
   "source": [
    "def plotting(errors, errors_grad):\n",
    "    plt.plot(range(len(errors)), errors, label='Стохастический градиентный спуск', linewidth = 4)\n",
    "    plt.plot(range(len(errors_grad)), errors_grad, label='Градиентный спуск', linewidth = 2)\n",
    "    plt.xlim(-1, 100)\n",
    "    plt.title('MSE')\n",
    "    plt.xlabel('Iteration number')\n",
    "    plt.ylabel('MSE')\n",
    "    plt.legend()"
   ]
  },
  {
   "cell_type": "code",
   "execution_count": 13,
   "metadata": {},
   "outputs": [
    {
     "data": {
      "image/png": "[encoded data removed]",
      "text/plain": [
       "<Figure size 432x288 with 1 Axes>"
      ]
     },
     "metadata": {
      "needs_background": "light"
     },
     "output_type": "display_data"
    }
   ],
   "source": [
    "plotting(errors, errors_grad)"
   ]
  },
  {
   "cell_type": "markdown",
   "metadata": {},
   "source": [
    "Вывод: Стохастический градиентный спуск сходится быстрее обычного градиентного спуска. "
   ]
  },
  {
   "cell_type": "markdown",
   "metadata": {},
   "source": [
    "2. Модифицировать решение первого задания путем добавления 𝐿2 -регуляризации (в функцию, считающую MSE, нужно добавить норму вектора весов) и сравнить результаты."
   ]
  },
  {
   "cell_type": "code",
   "execution_count": 14,
   "metadata": {},
   "outputs": [],
   "source": [
    "#Градиентный спуск c регуляризацией\n",
    "reg = 'l2'\n",
    "W = np.zeros(10)\n",
    "alpha = 0.2\n",
    "n = X.shape[1]\n",
    "y_pred_grad_l2, w_list_grad_l2, errors_grad_l2 = grad(reg, y, W, alpha, n)"
   ]
  },
  {
   "cell_type": "code",
   "execution_count": 15,
   "metadata": {},
   "outputs": [],
   "source": [
    "# Стохастический градиентный спуск c регуляризацией\n",
    "reg = 'l2'\n",
    "w = np.zeros(10)\n",
    "eta = 0.5\n",
    "max_iter = 1e5\n",
    "min_weight_dist = 1e-8\n",
    "weight_dist = np.inf\n",
    "w_list_stochastic_l2, errors_l2 = stoch_grad(reg, y, w, eta, max_iter, min_weight_dist, weight_dist)"
   ]
  },
  {
   "cell_type": "code",
   "execution_count": 16,
   "metadata": {},
   "outputs": [
    {
     "data": {
      "image/png": "[encoded data removed]",
      "text/plain": [
       "<Figure size 432x288 with 1 Axes>"
      ]
     },
     "metadata": {
      "needs_background": "light"
     },
     "output_type": "display_data"
    }
   ],
   "source": [
    "plotting(errors_l2, errors_grad_l2)"
   ]
  },
  {
   "cell_type": "markdown",
   "metadata": {},
   "source": [
    "При использовании L2-регуляризации градиентный спуск показал себя лучше, чем стохастический градиентный спуск."
   ]
  },
  {
   "cell_type": "markdown",
   "metadata": {},
   "source": [
    "3. [опция] Модернизировать решение задания 2, заменив L2 регуляризацию на L1 регуляризацию."
   ]
  },
  {
   "cell_type": "code",
   "execution_count": 17,
   "metadata": {},
   "outputs": [],
   "source": [
    "#Градиентный спуск c регуляризацией\n",
    "reg = 'l1'\n",
    "W = np.zeros(10)\n",
    "alpha = 0.2\n",
    "n = X.shape[1]\n",
    "y_pred_grad_l1, w_list_grad_l1, errors_grad_l1 = grad(reg, y, W, alpha, n)"
   ]
  },
  {
   "cell_type": "code",
   "execution_count": 18,
   "metadata": {},
   "outputs": [],
   "source": [
    "reg = 'l1'\n",
    "w = np.zeros(10)\n",
    "eta = 0.5\n",
    "max_iter = 1e5\n",
    "min_weight_dist = 1e-8\n",
    "weight_dist = np.inf\n",
    "w_list_stochastic_l1, errors_l1 = stoch_grad(reg, y, w, eta, max_iter, min_weight_dist, weight_dist)"
   ]
  },
  {
   "cell_type": "code",
   "execution_count": 19,
   "metadata": {},
   "outputs": [
    {
     "data": {
      "image/png": "[encoded data removed]",
      "text/plain": [
       "<Figure size 432x288 with 1 Axes>"
      ]
     },
     "metadata": {
      "needs_background": "light"
     },
     "output_type": "display_data"
    }
   ],
   "source": [
    "plotting(errors_l1, errors_grad_l1)"
   ]
  }
 ],
 "metadata": {
  "kernelspec": {
   "display_name": "Python 3",
   "language": "python",
   "name": "python3"
  },
  "language_info": {
   "codemirror_mode": {
    "name": "ipython",
    "version": 3
   },
   "file_extension": ".py",
   "mimetype": "text/x-python",
   "name": "python",
   "nbconvert_exporter": "python",
   "pygments_lexer": "ipython3",
   "version": "3.8.5"
  }
 },
 "nbformat": 4,
 "nbformat_minor": 4
}
