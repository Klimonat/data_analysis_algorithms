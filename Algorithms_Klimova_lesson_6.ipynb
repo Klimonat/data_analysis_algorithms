{
 "cells": [
  {
   "cell_type": "markdown",
   "metadata": {},
   "source": [
    "## Домашнее задание к занятию 6: \"Градиентный бустинг (AdaBoost)\""
   ]
  },
  {
   "cell_type": "markdown",
   "metadata": {},
   "source": [
    "Задание: Для реализованной в методичке модели градиентного бустинга построить графики зависимости ошибки от количества деревьев в ансамбле и от максимальной глубины деревьев. Сделать выводы о зависимости ошибки от этих параметров."
   ]
  },
  {
   "cell_type": "code",
   "execution_count": 1,
   "metadata": {},
   "outputs": [],
   "source": [
    "from sklearn.tree import DecisionTreeRegressor\n",
    "\n",
    "from sklearn import model_selection\n",
    "import numpy as np\n",
    "import matplotlib.pyplot as plt"
   ]
  },
  {
   "cell_type": "code",
   "execution_count": 2,
   "metadata": {},
   "outputs": [],
   "source": [
    "from sklearn.datasets import load_diabetes"
   ]
  },
  {
   "cell_type": "code",
   "execution_count": 3,
   "metadata": {},
   "outputs": [],
   "source": [
    "X, y = load_diabetes(return_X_y=True)"
   ]
  },
  {
   "cell_type": "code",
   "execution_count": 4,
   "metadata": {},
   "outputs": [],
   "source": [
    "X_train, X_test, y_train, y_test = model_selection.train_test_split(X, y, test_size=0.25, random_state = 14)"
   ]
  },
  {
   "cell_type": "code",
   "execution_count": 5,
   "metadata": {},
   "outputs": [],
   "source": [
    "def gb_predict(X, trees_list, coef_list, eta):\n",
    "    return np.array([sum([eta* coef * alg.predict([x])[0] for alg, coef in zip(trees_list, coef_list)]) for x in X])"
   ]
  },
  {
   "cell_type": "code",
   "execution_count": 6,
   "metadata": {},
   "outputs": [],
   "source": [
    "def mean_squared_error(y_real, prediction):\n",
    "    return (sum((y_real - prediction)**2)) / len(y_real)"
   ]
  },
  {
   "cell_type": "code",
   "execution_count": 7,
   "metadata": {},
   "outputs": [],
   "source": [
    "def bias(y, z):\n",
    "    return (y - z)"
   ]
  },
  {
   "cell_type": "code",
   "execution_count": 8,
   "metadata": {},
   "outputs": [],
   "source": [
    "def gb_fit(n_tree, max_depth, X_train, X_test, y_train, y_test, coefs, eta):\n",
    "    \n",
    "    # Деревья будем записывать в список\n",
    "    trees = []\n",
    "    \n",
    "    # Будем записывать ошибки на обучающей и тестовой выборке на каждой итерации в список\n",
    "    train_errors = []\n",
    "    test_errors = []\n",
    "    train_error = []\n",
    "    test_error = []\n",
    "    \n",
    "    for i in range(n_tree):\n",
    "        tree = DecisionTreeRegressor(max_depth=max_depth, random_state=42)\n",
    "\n",
    "        # инициализируем бустинг начальным алгоритмом, возвращающим ноль, \n",
    "        # поэтому первый алгоритм просто обучаем на выборке и добавляем в список\n",
    "        if len(trees) == 0:\n",
    "            # обучаем первое дерево на обучающей выборке\n",
    "            tree.fit(X_train, y_train)\n",
    "            \n",
    "        else:\n",
    "            # Получим ответы на текущей композиции\n",
    "            target = gb_predict(X_train, trees, coefs, eta)\n",
    "            \n",
    "            # алгоритмы начиная со второго обучаем на сдвиг\n",
    "            tree.fit(X_train, bias(y_train, target))\n",
    "            \n",
    "        trees.append(tree)\n",
    "    train_error.append(mean_squared_error(y_train, gb_predict(X_train, trees, coefs, eta)))\n",
    "    test_error.append(mean_squared_error(y_test, gb_predict(X_test, trees, coefs, eta)))\n",
    "        \n",
    "    return trees, train_error, test_error"
   ]
  },
  {
   "cell_type": "code",
   "execution_count": 9,
   "metadata": {},
   "outputs": [],
   "source": [
    "def evaluate_alg(X_train, X_test, y_train, y_test, trees, coefs, eta, n_trees, max_depth):\n",
    "    train_prediction = gb_predict(X_train, trees, coefs, eta)\n",
    "\n",
    "    print(f'Ошибка алгоритма из {n_trees} деревьев глубиной {max_depth} \\\n",
    "    с шагом {eta} на тренировочной выборке: {mean_squared_error(y_train, train_prediction)}')\n",
    "\n",
    "    test_prediction = gb_predict(X_test, trees, coefs, eta)\n",
    "\n",
    "    print(f'Ошибка алгоритма из {n_trees} деревьев глубиной {max_depth} \\\n",
    "    с шагом {eta} на тестовой выборке: {mean_squared_error(y_test, test_prediction)}')"
   ]
  },
  {
   "cell_type": "code",
   "execution_count": 10,
   "metadata": {},
   "outputs": [],
   "source": [
    "def get_error_plot(param_tree, train_err, test_err, label_name, title_name):\n",
    "    plt.xlabel(label_name)\n",
    "    plt.ylabel('MSE')\n",
    "    plt.plot(param_tree, train_err, label='train error')\n",
    "    plt.plot(param_tree, test_err, label='test error')\n",
    "    plt.legend()\n",
    "    plt.title(title_name)\n",
    "    plt.show()"
   ]
  },
  {
   "cell_type": "code",
   "execution_count": 11,
   "metadata": {},
   "outputs": [
    {
     "name": "stdout",
     "output_type": "stream",
     "text": [
      "Ошибка алгоритма из 1 деревьев глубиной 3     с шагом 1 на тренировочной выборке: 2768.7492096068513\n",
      "Ошибка алгоритма из 1 деревьев глубиной 3     с шагом 1 на тестовой выборке: 4399.800905879812\n",
      "\n",
      "Ошибка алгоритма из 5 деревьев глубиной 3     с шагом 1 на тренировочной выборке: 1543.841955925807\n",
      "Ошибка алгоритма из 5 деревьев глубиной 3     с шагом 1 на тестовой выборке: 4096.778995924574\n",
      "\n",
      "Ошибка алгоритма из 10 деревьев глубиной 3     с шагом 1 на тренировочной выборке: 1048.817169775994\n",
      "Ошибка алгоритма из 10 деревьев глубиной 3     с шагом 1 на тестовой выборке: 4343.249701301274\n",
      "\n",
      "Ошибка алгоритма из 20 деревьев глубиной 3     с шагом 1 на тренировочной выборке: 537.8585385841285\n",
      "Ошибка алгоритма из 20 деревьев глубиной 3     с шагом 1 на тестовой выборке: 5094.6639011818015\n",
      "\n",
      "Ошибка алгоритма из 40 деревьев глубиной 3     с шагом 1 на тренировочной выборке: 103.45725314340615\n",
      "Ошибка алгоритма из 40 деревьев глубиной 3     с шагом 1 на тестовой выборке: 5862.1364674963115\n",
      "\n",
      "Ошибка алгоритма из 60 деревьев глубиной 3     с шагом 1 на тренировочной выборке: 18.032308323066434\n",
      "Ошибка алгоритма из 60 деревьев глубиной 3     с шагом 1 на тестовой выборке: 5926.965680767422\n",
      "\n",
      "Ошибка алгоритма из 80 деревьев глубиной 3     с шагом 1 на тренировочной выборке: 3.6867993413827094\n",
      "Ошибка алгоритма из 80 деревьев глубиной 3     с шагом 1 на тестовой выборке: 5837.3440222181025\n",
      "\n",
      "Ошибка алгоритма из 100 деревьев глубиной 3     с шагом 1 на тренировочной выборке: 0.7942281404089729\n",
      "Ошибка алгоритма из 100 деревьев глубиной 3     с шагом 1 на тестовой выборке: 5891.866588563499\n",
      "\n"
     ]
    },
    {
     "data": {
      "image/png": "[encoded data removed]",
      "text/plain": [
       "<Figure size 432x288 with 1 Axes>"
      ]
     },
     "metadata": {
      "needs_background": "light"
     },
     "output_type": "display_data"
    }
   ],
   "source": [
    "# Максимальная глубина деревьев\n",
    "max_depth = 3\n",
    "\n",
    "# Шаг\n",
    "eta = 1\n",
    "\n",
    "train_errors_for_tree = []\n",
    "test_errors_for_tree = []\n",
    "\n",
    "list_count_trees = [1, 5, 10, 20, 40, 60, 80, 100]\n",
    "\n",
    "for n_tree in list_count_trees:\n",
    "    coefs = [1] * n_tree\n",
    "    tree, train_errors, test_errors = gb_fit(n_tree, max_depth, X_train, X_test, y_train, y_test, coefs, eta)\n",
    "    train_errors_for_tree.append(train_errors)\n",
    "    test_errors_for_tree.append(test_errors)\n",
    "    evaluate_alg(X_train, X_test, y_train, y_test, tree, coefs, eta, n_tree, max_depth)\n",
    "    print()\n",
    "    \n",
    "get_error_plot(list_count_trees, train_errors_for_tree, test_errors_for_tree, \n",
    "               'n_tree', 'Зависимость величины ошибки от числа деревьев')"
   ]
  },
  {
   "cell_type": "markdown",
   "metadata": {},
   "source": [
    "Можно заметить, что при количестве деревьев более 25 ошибка на тесте только увеличивается, поэтому рассмотрим ошибку для количества деревьев до 25"
   ]
  },
  {
   "cell_type": "code",
   "execution_count": 12,
   "metadata": {},
   "outputs": [
    {
     "name": "stdout",
     "output_type": "stream",
     "text": [
      "Ошибка алгоритма из 1 деревьев глубиной 3     с шагом 1 на тренировочной выборке: 2768.7492096068513\n",
      "Ошибка алгоритма из 1 деревьев глубиной 3     с шагом 1 на тестовой выборке: 4399.800905879812\n",
      "\n",
      "Ошибка алгоритма из 2 деревьев глубиной 3     с шагом 1 на тренировочной выборке: 2272.758488852521\n",
      "Ошибка алгоритма из 2 деревьев глубиной 3     с шагом 1 на тестовой выборке: 4272.788227870812\n",
      "\n",
      "Ошибка алгоритма из 3 деревьев глубиной 3     с шагом 1 на тренировочной выборке: 1932.812275945241\n",
      "Ошибка алгоритма из 3 деревьев глубиной 3     с шагом 1 на тестовой выборке: 4068.91304210222\n",
      "\n",
      "Ошибка алгоритма из 4 деревьев глубиной 3     с шагом 1 на тренировочной выборке: 1774.935910743925\n",
      "Ошибка алгоритма из 4 деревьев глубиной 3     с шагом 1 на тестовой выборке: 4026.735009710544\n",
      "\n",
      "Ошибка алгоритма из 5 деревьев глубиной 3     с шагом 1 на тренировочной выборке: 1543.841955925807\n",
      "Ошибка алгоритма из 5 деревьев глубиной 3     с шагом 1 на тестовой выборке: 4096.778995924574\n",
      "\n",
      "Ошибка алгоритма из 6 деревьев глубиной 3     с шагом 1 на тренировочной выборке: 1431.0645294649073\n",
      "Ошибка алгоритма из 6 деревьев глубиной 3     с шагом 1 на тестовой выборке: 4233.411862326405\n",
      "\n",
      "Ошибка алгоритма из 7 деревьев глубиной 3     с шагом 1 на тренировочной выборке: 1343.960477855744\n",
      "Ошибка алгоритма из 7 деревьев глубиной 3     с шагом 1 на тестовой выборке: 3999.6076898377432\n",
      "\n",
      "Ошибка алгоритма из 8 деревьев глубиной 3     с шагом 1 на тренировочной выборке: 1201.1738929287947\n",
      "Ошибка алгоритма из 8 деревьев глубиной 3     с шагом 1 на тестовой выборке: 4306.522363734654\n",
      "\n",
      "Ошибка алгоритма из 9 деревьев глубиной 3     с шагом 1 на тренировочной выборке: 1097.9334853562732\n",
      "Ошибка алгоритма из 9 деревьев глубиной 3     с шагом 1 на тестовой выборке: 4316.595152914827\n",
      "\n",
      "Ошибка алгоритма из 10 деревьев глубиной 3     с шагом 1 на тренировочной выборке: 1048.817169775994\n",
      "Ошибка алгоритма из 10 деревьев глубиной 3     с шагом 1 на тестовой выборке: 4343.249701301274\n",
      "\n",
      "Ошибка алгоритма из 11 деревьев глубиной 3     с шагом 1 на тренировочной выборке: 961.5505775352814\n",
      "Ошибка алгоритма из 11 деревьев глубиной 3     с шагом 1 на тестовой выборке: 4510.334195249199\n",
      "\n",
      "Ошибка алгоритма из 12 деревьев глубиной 3     с шагом 1 на тренировочной выборке: 937.7183659335965\n",
      "Ошибка алгоритма из 12 деревьев глубиной 3     с шагом 1 на тестовой выборке: 4595.404084210376\n",
      "\n",
      "Ошибка алгоритма из 13 деревьев глубиной 3     с шагом 1 на тренировочной выборке: 856.4912341056709\n",
      "Ошибка алгоритма из 13 деревьев глубиной 3     с шагом 1 на тестовой выборке: 4612.580315839527\n",
      "\n",
      "Ошибка алгоритма из 14 деревьев глубиной 3     с шагом 1 на тренировочной выборке: 813.6313555988899\n",
      "Ошибка алгоритма из 14 деревьев глубиной 3     с шагом 1 на тестовой выборке: 4703.384664094482\n",
      "\n",
      "Ошибка алгоритма из 15 деревьев глубиной 3     с шагом 1 на тренировочной выборке: 726.4832494985085\n",
      "Ошибка алгоритма из 15 деревьев глубиной 3     с шагом 1 на тестовой выборке: 4807.459790283203\n",
      "\n",
      "Ошибка алгоритма из 16 деревьев глубиной 3     с шагом 1 на тренировочной выборке: 688.5830071035243\n",
      "Ошибка алгоритма из 16 деревьев глубиной 3     с шагом 1 на тестовой выборке: 4843.827890555204\n",
      "\n",
      "Ошибка алгоритма из 17 деревьев глубиной 3     с шагом 1 на тренировочной выборке: 669.6957537813865\n",
      "Ошибка алгоритма из 17 деревьев глубиной 3     с шагом 1 на тестовой выборке: 4870.210511444019\n",
      "\n",
      "Ошибка алгоритма из 18 деревьев глубиной 3     с шагом 1 на тренировочной выборке: 593.7650343849522\n",
      "Ошибка алгоритма из 18 деревьев глубиной 3     с шагом 1 на тестовой выборке: 4984.19368441485\n",
      "\n",
      "Ошибка алгоритма из 19 деревьев глубиной 3     с шагом 1 на тренировочной выборке: 563.8346948334366\n",
      "Ошибка алгоритма из 19 деревьев глубиной 3     с шагом 1 на тестовой выборке: 5059.568806364775\n",
      "\n",
      "Ошибка алгоритма из 20 деревьев глубиной 3     с шагом 1 на тренировочной выборке: 537.8585385841285\n",
      "Ошибка алгоритма из 20 деревьев глубиной 3     с шагом 1 на тестовой выборке: 5094.6639011818015\n",
      "\n",
      "Ошибка алгоритма из 21 деревьев глубиной 3     с шагом 1 на тренировочной выборке: 500.2684882891629\n",
      "Ошибка алгоритма из 21 деревьев глубиной 3     с шагом 1 на тестовой выборке: 5056.48071533738\n",
      "\n",
      "Ошибка алгоритма из 22 деревьев глубиной 3     с шагом 1 на тренировочной выборке: 448.75194684554134\n",
      "Ошибка алгоритма из 22 деревьев глубиной 3     с шагом 1 на тестовой выборке: 5121.41730373024\n",
      "\n",
      "Ошибка алгоритма из 23 деревьев глубиной 3     с шагом 1 на тренировочной выборке: 409.5050858226371\n",
      "Ошибка алгоритма из 23 деревьев глубиной 3     с шагом 1 на тестовой выборке: 5156.784883941886\n",
      "\n",
      "Ошибка алгоритма из 24 деревьев глубиной 3     с шагом 1 на тренировочной выборке: 383.78096711971165\n",
      "Ошибка алгоритма из 24 деревьев глубиной 3     с шагом 1 на тестовой выборке: 5172.122014592735\n",
      "\n",
      "Ошибка алгоритма из 25 деревьев глубиной 3     с шагом 1 на тренировочной выборке: 357.82243031849487\n",
      "Ошибка алгоритма из 25 деревьев глубиной 3     с шагом 1 на тестовой выборке: 5265.452835048505\n",
      "\n"
     ]
    },
    {
     "data": {
      "image/png": "[encoded data removed]",
      "text/plain": [
       "<Figure size 432x288 with 1 Axes>"
      ]
     },
     "metadata": {
      "needs_background": "light"
     },
     "output_type": "display_data"
    }
   ],
   "source": [
    "train_errors_for_tree = []\n",
    "test_errors_for_tree = []\n",
    "\n",
    "list_count_trees = range(1, 26)\n",
    "\n",
    "for n_tree in list_count_trees:\n",
    "    coefs = [1] * n_tree\n",
    "    tree, train_errors, test_errors = gb_fit(n_tree, max_depth, X_train, X_test, y_train, y_test, coefs, eta)\n",
    "    train_errors_for_tree.append(train_errors)\n",
    "    test_errors_for_tree.append(test_errors)\n",
    "    evaluate_alg(X_train, X_test, y_train, y_test, tree, coefs, eta, n_tree, max_depth)\n",
    "    print()\n",
    "    \n",
    "get_error_plot(list_count_trees, train_errors_for_tree, test_errors_for_tree, \n",
    "               'n_tree', 'Зависимость величины ошибки от числа деревьев')"
   ]
  },
  {
   "cell_type": "code",
   "execution_count": 13,
   "metadata": {},
   "outputs": [
    {
     "data": {
      "text/plain": [
       "[3999.6076898377432]"
      ]
     },
     "execution_count": 13,
     "metadata": {},
     "output_type": "execute_result"
    }
   ],
   "source": [
    "min(test_errors_for_tree)"
   ]
  },
  {
   "cell_type": "markdown",
   "metadata": {},
   "source": [
    "Для исходных данных и выбранных параметров наименьшую ошибку даёт количество деревьев, равное 7. "
   ]
  },
  {
   "cell_type": "code",
   "execution_count": 14,
   "metadata": {},
   "outputs": [
    {
     "name": "stdout",
     "output_type": "stream",
     "text": [
      "Ошибка алгоритма из 7 деревьев глубиной 1     с шагом 1 на тренировочной выборке: 2810.879898187519\n",
      "Ошибка алгоритма из 7 деревьев глубиной 1     с шагом 1 на тестовой выборке: 3567.5192558699223\n",
      "\n",
      "Ошибка алгоритма из 7 деревьев глубиной 2     с шагом 1 на тренировочной выборке: 2218.2739823726765\n",
      "Ошибка алгоритма из 7 деревьев глубиной 2     с шагом 1 на тестовой выборке: 3858.614175903021\n",
      "\n",
      "Ошибка алгоритма из 7 деревьев глубиной 3     с шагом 1 на тренировочной выборке: 1343.960477855744\n",
      "Ошибка алгоритма из 7 деревьев глубиной 3     с шагом 1 на тестовой выборке: 3999.6076898377432\n",
      "\n",
      "Ошибка алгоритма из 7 деревьев глубиной 4     с шагом 1 на тренировочной выборке: 673.3812757378953\n",
      "Ошибка алгоритма из 7 деревьев глубиной 4     с шагом 1 на тестовой выборке: 4792.688945514065\n",
      "\n",
      "Ошибка алгоритма из 7 деревьев глубиной 5     с шагом 1 на тренировочной выборке: 218.27141098193073\n",
      "Ошибка алгоритма из 7 деревьев глубиной 5     с шагом 1 на тестовой выборке: 7557.375054687584\n",
      "\n",
      "Ошибка алгоритма из 7 деревьев глубиной 6     с шагом 1 на тренировочной выборке: 153.1626875410417\n",
      "Ошибка алгоритма из 7 деревьев глубиной 6     с шагом 1 на тестовой выборке: 7046.2826719923505\n",
      "\n",
      "Ошибка алгоритма из 7 деревьев глубиной 7     с шагом 1 на тренировочной выборке: 8.424941675868034\n",
      "Ошибка алгоритма из 7 деревьев глубиной 7     с шагом 1 на тестовой выборке: 6765.090404782271\n",
      "\n",
      "Ошибка алгоритма из 7 деревьев глубиной 8     с шагом 1 на тренировочной выборке: 0.9807923607081805\n",
      "Ошибка алгоритма из 7 деревьев глубиной 8     с шагом 1 на тестовой выборке: 6547.945793347448\n",
      "\n",
      "Ошибка алгоритма из 7 деревьев глубиной 9     с шагом 1 на тренировочной выборке: 0.06971957435944971\n",
      "Ошибка алгоритма из 7 деревьев глубиной 9     с шагом 1 на тестовой выборке: 5878.676059899532\n",
      "\n",
      "Ошибка алгоритма из 7 деревьев глубиной 10     с шагом 1 на тренировочной выборке: 9.504948030633654e-05\n",
      "Ошибка алгоритма из 7 деревьев глубиной 10     с шагом 1 на тестовой выборке: 6849.044376520031\n",
      "\n",
      "Ошибка алгоритма из 7 деревьев глубиной 15     с шагом 1 на тренировочной выборке: 0.0\n",
      "Ошибка алгоритма из 7 деревьев глубиной 15     с шагом 1 на тестовой выборке: 5773.396396396396\n",
      "\n",
      "Ошибка алгоритма из 7 деревьев глубиной 20     с шагом 1 на тренировочной выборке: 0.0\n",
      "Ошибка алгоритма из 7 деревьев глубиной 20     с шагом 1 на тестовой выборке: 5660.918918918919\n",
      "\n"
     ]
    },
    {
     "data": {
      "image/png": "[encoded data removed]",
      "text/plain": [
       "<Figure size 432x288 with 1 Axes>"
      ]
     },
     "metadata": {
      "needs_background": "light"
     },
     "output_type": "display_data"
    }
   ],
   "source": [
    "# Число деревьев в ансамбле\n",
    "n_trees = 7\n",
    "\n",
    "# Шаг\n",
    "eta = 1\n",
    "\n",
    "coefs = [1] * n_trees\n",
    "\n",
    "train_errors_for_depth = []\n",
    "test_errors_for_depth = []\n",
    "\n",
    "list_depth = [1, 2, 3, 4, 5, 6, 7, 8, 9, 10, 15, 20]\n",
    "\n",
    "for depth in list_depth:\n",
    "    tree, train_errors, test_errors = gb_fit(n_trees, depth, X_train, X_test, y_train, y_test, coefs, eta)\n",
    "    train_errors_for_depth.append(train_errors)\n",
    "    test_errors_for_depth.append(test_errors)\n",
    "    evaluate_alg(X_train, X_test, y_train, y_test, tree, coefs, eta, n_trees, depth)\n",
    "    print()\n",
    "    \n",
    "get_error_plot(list_depth, train_errors_for_depth, test_errors_for_depth, \n",
    "               'depth', 'Зависимость величины ошибки от глубины деревьев')"
   ]
  },
  {
   "cell_type": "code",
   "execution_count": 15,
   "metadata": {},
   "outputs": [
    {
     "data": {
      "text/plain": [
       "[3567.5192558699223]"
      ]
     },
     "execution_count": 15,
     "metadata": {},
     "output_type": "execute_result"
    }
   ],
   "source": [
    "min(test_errors_for_depth)"
   ]
  },
  {
   "cell_type": "markdown",
   "metadata": {},
   "source": [
    "Для исходных данных и выбранных параметров наименьшую ошибку даёт глубина деревьев, равная 1."
   ]
  },
  {
   "cell_type": "markdown",
   "metadata": {},
   "source": [
    "Выводы:\n",
    "1. Наименьшая ошибка получена при глубине 1 и количестве деревьев 7. \n",
    "2. При увеличении количества деревьев ошибка падает на малом количестве деревьев, но при большом количестве деревьев ошибка уже не уменьшается, только увеличивается\n",
    "3. При увеличении глубины деревьев ошибка только увеличивается, поэтому рекомендуемое значение глубины для данного набора данных - 1."
   ]
  }
 ],
 "metadata": {
  "kernelspec": {
   "display_name": "Python 3",
   "language": "python",
   "name": "python3"
  },
  "language_info": {
   "codemirror_mode": {
    "name": "ipython",
    "version": 3
   },
   "file_extension": ".py",
   "mimetype": "text/x-python",
   "name": "python",
   "nbconvert_exporter": "python",
   "pygments_lexer": "ipython3",
   "version": "3.8.5"
  }
 },
 "nbformat": 4,
 "nbformat_minor": 4
}
